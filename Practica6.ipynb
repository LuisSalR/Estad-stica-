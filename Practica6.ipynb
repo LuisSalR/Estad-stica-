{
  "nbformat": 4,
  "nbformat_minor": 0,
  "metadata": {
    "colab": {
      "provenance": [],
      "include_colab_link": true
    },
    "kernelspec": {
      "name": "python3",
      "display_name": "Python 3"
    },
    "language_info": {
      "name": "python"
    }
  },
  "cells": [
    {
      "cell_type": "markdown",
      "metadata": {
        "id": "view-in-github",
        "colab_type": "text"
      },
      "source": [
        "<a href=\"https://colab.research.google.com/github/LuisSalR/Estad-stica-/blob/main/Practica6.ipynb\" target=\"_parent\"><img src=\"https://colab.research.google.com/assets/colab-badge.svg\" alt=\"Open In Colab\"/></a>"
      ]
    },
    {
      "cell_type": "markdown",
      "source": [
        "![image.png](data:image/png;base64,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)\n",
        "\n",
        "#Probabilidad y estadística\n",
        "##Unidad 1\n",
        "Practica 6: Estadistica descriptiva Dataset Autos.\n",
        "\n",
        "Grupo 2Y\n",
        "\n",
        "Alumno: Luis Salinas Ramírez\n",
        "\n",
        "Docente: Dr. José Gabriel Rodríguez Rivas"
      ],
      "metadata": {
        "id": "pc-I5hAybB2l"
      }
    },
    {
      "cell_type": "markdown",
      "source": [
        "#Seccion 1\n",
        "###Aqui cargamos el Dataset de Autos y realizar las Estadísticas descriptivas básicas y medidas de tendencia central (se nos fue proporcionado)"
      ],
      "metadata": {
        "id": "APJOMs5IbYnP"
      }
    },
    {
      "cell_type": "code",
      "execution_count": null,
      "metadata": {
        "id": "P2t-ERpBa-y4"
      },
      "outputs": [],
      "source": [
        "import pandas as pd\n",
        "import matplotlib.pyplot as plt\n",
        "import seaborn as sns\n",
        "from matplotlib import pyplot\n",
        "from statistics import *"
      ]
    },
    {
      "cell_type": "code",
      "source": [
        "autos = pd.read_csv(\"autos2.csv\", encoding = \"ISO-8859-1\")\n",
        "\n",
        "#Esta linea de código elimina todos los elemetos NAN que contiene la  columna Precios, por lo que será factible usarla para calcular el promedio\n",
        "# y la desviación estandar\n",
        "precios = autos['price'].dropna()"
      ],
      "metadata": {
        "id": "8uq3Bjn4cc-Q"
      },
      "execution_count": null,
      "outputs": []
    },
    {
      "cell_type": "code",
      "source": [
        "#Determinar el valor mínimo de precios\n",
        "autos.price.min()"
      ],
      "metadata": {
        "colab": {
          "base_uri": "https://localhost:8080/"
        },
        "id": "OFdek7_gdTRY",
        "outputId": "c51939f7-b04a-4b3f-c55a-c8d61a20b833"
      },
      "execution_count": null,
      "outputs": [
        {
          "output_type": "execute_result",
          "data": {
            "text/plain": [
              "5118.0"
            ]
          },
          "metadata": {},
          "execution_count": 7
        }
      ]
    },
    {
      "cell_type": "code",
      "source": [
        "#Determinar el valor máximo de precios\n",
        "autos.price.max()"
      ],
      "metadata": {
        "colab": {
          "base_uri": "https://localhost:8080/"
        },
        "id": "C9Dc9EsZda2R",
        "outputId": "041f6518-1264-43a9-c4f9-f8982f0f572a"
      },
      "execution_count": null,
      "outputs": [
        {
          "output_type": "execute_result",
          "data": {
            "text/plain": [
              "45400.0"
            ]
          },
          "metadata": {},
          "execution_count": 8
        }
      ]
    },
    {
      "cell_type": "code",
      "source": [
        "#Determinar el valor de la moda de precios\n",
        "modaPrecios = mode(autos.price)\n",
        "print(\"La moda de los precios es: \", modaPrecios)"
      ],
      "metadata": {
        "colab": {
          "base_uri": "https://localhost:8080/"
        },
        "id": "lE-uIUdvdoON",
        "outputId": "a5003a14-0a81-488b-d42f-cd1580cbb7de"
      },
      "execution_count": null,
      "outputs": [
        {
          "output_type": "stream",
          "name": "stdout",
          "text": [
            "La moda de los precios es:  16500.0\n"
          ]
        }
      ]
    },
    {
      "cell_type": "code",
      "source": [
        "#Determinar el valor de la media de precios\n",
        "mediaPrecios = sum(precios) / len(autos.price)\n",
        "print(\"La media de los precios es: \", mediaPrecios)"
      ],
      "metadata": {
        "colab": {
          "base_uri": "https://localhost:8080/"
        },
        "id": "0IWImVSqeq-u",
        "outputId": "47b11d1d-f08e-4f2c-9c32-e6609fe08c5a"
      },
      "execution_count": null,
      "outputs": [
        {
          "output_type": "stream",
          "name": "stdout",
          "text": [
            "La media de los precios es:  12949.429268292683\n"
          ]
        }
      ]
    },
    {
      "cell_type": "code",
      "source": [
        "#Determinar el valor de la mediana de precios\n",
        "medianaPrecios = median(autos.price)\n",
        "print(\"La mediana de los precios es: \", medianaPrecios)"
      ],
      "metadata": {
        "colab": {
          "base_uri": "https://localhost:8080/"
        },
        "id": "sfUDgkc_fkch",
        "outputId": "a1f20b83-178d-40b4-923f-965b074fd352"
      },
      "execution_count": null,
      "outputs": [
        {
          "output_type": "stream",
          "name": "stdout",
          "text": [
            "La mediana de los precios es:  18150.0\n"
          ]
        }
      ]
    },
    {
      "cell_type": "code",
      "source": [
        "#Determinar el valor de la desviación estándar de precios\n",
        "desvStandPrecios = stdev(precios)\n",
        "print(\"La desviación estándar de los precios es: \", desvStandPrecios)"
      ],
      "metadata": {
        "colab": {
          "base_uri": "https://localhost:8080/"
        },
        "id": "2Ln6ZH0tg59i",
        "outputId": "435db655-278b-4c71-a1d3-77832ab224f3"
      },
      "execution_count": null,
      "outputs": [
        {
          "output_type": "stream",
          "name": "stdout",
          "text": [
            "La desviación estándar de los precios es:  7947.066341939274\n"
          ]
        }
      ]
    },
    {
      "cell_type": "code",
      "source": [
        "#Determinar los estadísticos y cuartiles con la función describe()\n",
        "\n",
        "print(\"Estadisticos y cuartiles de los precios\")\n",
        "autos.price.describe()"
      ],
      "metadata": {
        "colab": {
          "base_uri": "https://localhost:8080/",
          "height": 352
        },
        "id": "USh5qI5SkGBs",
        "outputId": "5cc0d7fd-ae77-4cf2-e2f1-7efa99499b65"
      },
      "execution_count": null,
      "outputs": [
        {
          "output_type": "stream",
          "name": "stdout",
          "text": [
            "Estadisticos y cuartiles de los precios\n"
          ]
        },
        {
          "output_type": "execute_result",
          "data": {
            "text/plain": [
              "count      201.000000\n",
              "mean     13207.129353\n",
              "std       7947.066342\n",
              "min       5118.000000\n",
              "25%       7775.000000\n",
              "50%      10295.000000\n",
              "75%      16500.000000\n",
              "max      45400.000000\n",
              "Name: price, dtype: float64"
            ],
            "text/html": [
              "<div>\n",
              "<style scoped>\n",
              "    .dataframe tbody tr th:only-of-type {\n",
              "        vertical-align: middle;\n",
              "    }\n",
              "\n",
              "    .dataframe tbody tr th {\n",
              "        vertical-align: top;\n",
              "    }\n",
              "\n",
              "    .dataframe thead th {\n",
              "        text-align: right;\n",
              "    }\n",
              "</style>\n",
              "<table border=\"1\" class=\"dataframe\">\n",
              "  <thead>\n",
              "    <tr style=\"text-align: right;\">\n",
              "      <th></th>\n",
              "      <th>price</th>\n",
              "    </tr>\n",
              "  </thead>\n",
              "  <tbody>\n",
              "    <tr>\n",
              "      <th>count</th>\n",
              "      <td>201.000000</td>\n",
              "    </tr>\n",
              "    <tr>\n",
              "      <th>mean</th>\n",
              "      <td>13207.129353</td>\n",
              "    </tr>\n",
              "    <tr>\n",
              "      <th>std</th>\n",
              "      <td>7947.066342</td>\n",
              "    </tr>\n",
              "    <tr>\n",
              "      <th>min</th>\n",
              "      <td>5118.000000</td>\n",
              "    </tr>\n",
              "    <tr>\n",
              "      <th>25%</th>\n",
              "      <td>7775.000000</td>\n",
              "    </tr>\n",
              "    <tr>\n",
              "      <th>50%</th>\n",
              "      <td>10295.000000</td>\n",
              "    </tr>\n",
              "    <tr>\n",
              "      <th>75%</th>\n",
              "      <td>16500.000000</td>\n",
              "    </tr>\n",
              "    <tr>\n",
              "      <th>max</th>\n",
              "      <td>45400.000000</td>\n",
              "    </tr>\n",
              "  </tbody>\n",
              "</table>\n",
              "</div><br><label><b>dtype:</b> float64</label>"
            ]
          },
          "metadata": {},
          "execution_count": 13
        }
      ]
    },
    {
      "cell_type": "code",
      "source": [
        "#El punto no asume si es de los precios o de manera general, así que se\n",
        "#tomarán las dos vistas\n",
        "\n",
        "print(\"Estadisticos y cuartiles generales\")\n",
        "autos.describe()"
      ],
      "metadata": {
        "colab": {
          "base_uri": "https://localhost:8080/",
          "height": 355
        },
        "id": "Vr8S_StVlqc8",
        "outputId": "a726e6ef-ded1-4b90-a26a-8271895e47a7"
      },
      "execution_count": null,
      "outputs": [
        {
          "output_type": "stream",
          "name": "stdout",
          "text": [
            "Estadisticos y cuartiles generales\n"
          ]
        },
        {
          "output_type": "execute_result",
          "data": {
            "text/plain": [
              "        symboling  normalized-losses  wheel-base      length       width  \\\n",
              "count  205.000000         205.000000  205.000000  205.000000  205.000000   \n",
              "mean     0.834146         122.000000   98.756585  174.049268   65.907805   \n",
              "std      1.245307          31.681008    6.021776   12.337289    2.145204   \n",
              "min     -2.000000          65.000000   86.600000  141.100000   60.300000   \n",
              "25%      0.000000         101.000000   94.500000  166.300000   64.100000   \n",
              "50%      1.000000         122.000000   97.000000  173.200000   65.500000   \n",
              "75%      2.000000         137.000000  102.400000  183.100000   66.900000   \n",
              "max      3.000000         256.000000  120.900000  208.100000   72.300000   \n",
              "\n",
              "           height  curb-weight  engine-size        bore      stroke  \\\n",
              "count  205.000000   205.000000   205.000000  201.000000  201.000000   \n",
              "mean    53.724878  2555.565854   126.907317    3.329751    3.255423   \n",
              "std      2.443522   520.680204    41.642693    0.273539    0.316717   \n",
              "min     47.800000  1488.000000    61.000000    2.540000    2.070000   \n",
              "25%     52.000000  2145.000000    97.000000    3.150000    3.110000   \n",
              "50%     54.100000  2414.000000   120.000000    3.310000    3.290000   \n",
              "75%     55.500000  2935.000000   141.000000    3.590000    3.410000   \n",
              "max     59.800000  4066.000000   326.000000    3.940000    4.170000   \n",
              "\n",
              "       compression-ratio  horsepower     peak-rpm    city-mpg  highway-mpg  \\\n",
              "count         205.000000  203.000000   203.000000  205.000000   205.000000   \n",
              "mean           10.142537  104.256158  5125.369458   25.219512    30.751220   \n",
              "std             3.972040   39.714369   479.334560    6.542142     6.886443   \n",
              "min             7.000000   48.000000  4150.000000   13.000000    16.000000   \n",
              "25%             8.600000   70.000000  4800.000000   19.000000    25.000000   \n",
              "50%             9.000000   95.000000  5200.000000   24.000000    30.000000   \n",
              "75%             9.400000  116.000000  5500.000000   30.000000    34.000000   \n",
              "max            23.000000  288.000000  6600.000000   49.000000    54.000000   \n",
              "\n",
              "              price  \n",
              "count    201.000000  \n",
              "mean   13207.129353  \n",
              "std     7947.066342  \n",
              "min     5118.000000  \n",
              "25%     7775.000000  \n",
              "50%    10295.000000  \n",
              "75%    16500.000000  \n",
              "max    45400.000000  "
            ],
            "text/html": [
              "\n",
              "  <div id=\"df-cf5b244c-ec47-4fd0-bb21-b12d41a93669\" class=\"colab-df-container\">\n",
              "    <div>\n",
              "<style scoped>\n",
              "    .dataframe tbody tr th:only-of-type {\n",
              "        vertical-align: middle;\n",
              "    }\n",
              "\n",
              "    .dataframe tbody tr th {\n",
              "        vertical-align: top;\n",
              "    }\n",
              "\n",
              "    .dataframe thead th {\n",
              "        text-align: right;\n",
              "    }\n",
              "</style>\n",
              "<table border=\"1\" class=\"dataframe\">\n",
              "  <thead>\n",
              "    <tr style=\"text-align: right;\">\n",
              "      <th></th>\n",
              "      <th>symboling</th>\n",
              "      <th>normalized-losses</th>\n",
              "      <th>wheel-base</th>\n",
              "      <th>length</th>\n",
              "      <th>width</th>\n",
              "      <th>height</th>\n",
              "      <th>curb-weight</th>\n",
              "      <th>engine-size</th>\n",
              "      <th>bore</th>\n",
              "      <th>stroke</th>\n",
              "      <th>compression-ratio</th>\n",
              "      <th>horsepower</th>\n",
              "      <th>peak-rpm</th>\n",
              "      <th>city-mpg</th>\n",
              "      <th>highway-mpg</th>\n",
              "      <th>price</th>\n",
              "    </tr>\n",
              "  </thead>\n",
              "  <tbody>\n",
              "    <tr>\n",
              "      <th>count</th>\n",
              "      <td>205.000000</td>\n",
              "      <td>205.000000</td>\n",
              "      <td>205.000000</td>\n",
              "      <td>205.000000</td>\n",
              "      <td>205.000000</td>\n",
              "      <td>205.000000</td>\n",
              "      <td>205.000000</td>\n",
              "      <td>205.000000</td>\n",
              "      <td>201.000000</td>\n",
              "      <td>201.000000</td>\n",
              "      <td>205.000000</td>\n",
              "      <td>203.000000</td>\n",
              "      <td>203.000000</td>\n",
              "      <td>205.000000</td>\n",
              "      <td>205.000000</td>\n",
              "      <td>201.000000</td>\n",
              "    </tr>\n",
              "    <tr>\n",
              "      <th>mean</th>\n",
              "      <td>0.834146</td>\n",
              "      <td>122.000000</td>\n",
              "      <td>98.756585</td>\n",
              "      <td>174.049268</td>\n",
              "      <td>65.907805</td>\n",
              "      <td>53.724878</td>\n",
              "      <td>2555.565854</td>\n",
              "      <td>126.907317</td>\n",
              "      <td>3.329751</td>\n",
              "      <td>3.255423</td>\n",
              "      <td>10.142537</td>\n",
              "      <td>104.256158</td>\n",
              "      <td>5125.369458</td>\n",
              "      <td>25.219512</td>\n",
              "      <td>30.751220</td>\n",
              "      <td>13207.129353</td>\n",
              "    </tr>\n",
              "    <tr>\n",
              "      <th>std</th>\n",
              "      <td>1.245307</td>\n",
              "      <td>31.681008</td>\n",
              "      <td>6.021776</td>\n",
              "      <td>12.337289</td>\n",
              "      <td>2.145204</td>\n",
              "      <td>2.443522</td>\n",
              "      <td>520.680204</td>\n",
              "      <td>41.642693</td>\n",
              "      <td>0.273539</td>\n",
              "      <td>0.316717</td>\n",
              "      <td>3.972040</td>\n",
              "      <td>39.714369</td>\n",
              "      <td>479.334560</td>\n",
              "      <td>6.542142</td>\n",
              "      <td>6.886443</td>\n",
              "      <td>7947.066342</td>\n",
              "    </tr>\n",
              "    <tr>\n",
              "      <th>min</th>\n",
              "      <td>-2.000000</td>\n",
              "      <td>65.000000</td>\n",
              "      <td>86.600000</td>\n",
              "      <td>141.100000</td>\n",
              "      <td>60.300000</td>\n",
              "      <td>47.800000</td>\n",
              "      <td>1488.000000</td>\n",
              "      <td>61.000000</td>\n",
              "      <td>2.540000</td>\n",
              "      <td>2.070000</td>\n",
              "      <td>7.000000</td>\n",
              "      <td>48.000000</td>\n",
              "      <td>4150.000000</td>\n",
              "      <td>13.000000</td>\n",
              "      <td>16.000000</td>\n",
              "      <td>5118.000000</td>\n",
              "    </tr>\n",
              "    <tr>\n",
              "      <th>25%</th>\n",
              "      <td>0.000000</td>\n",
              "      <td>101.000000</td>\n",
              "      <td>94.500000</td>\n",
              "      <td>166.300000</td>\n",
              "      <td>64.100000</td>\n",
              "      <td>52.000000</td>\n",
              "      <td>2145.000000</td>\n",
              "      <td>97.000000</td>\n",
              "      <td>3.150000</td>\n",
              "      <td>3.110000</td>\n",
              "      <td>8.600000</td>\n",
              "      <td>70.000000</td>\n",
              "      <td>4800.000000</td>\n",
              "      <td>19.000000</td>\n",
              "      <td>25.000000</td>\n",
              "      <td>7775.000000</td>\n",
              "    </tr>\n",
              "    <tr>\n",
              "      <th>50%</th>\n",
              "      <td>1.000000</td>\n",
              "      <td>122.000000</td>\n",
              "      <td>97.000000</td>\n",
              "      <td>173.200000</td>\n",
              "      <td>65.500000</td>\n",
              "      <td>54.100000</td>\n",
              "      <td>2414.000000</td>\n",
              "      <td>120.000000</td>\n",
              "      <td>3.310000</td>\n",
              "      <td>3.290000</td>\n",
              "      <td>9.000000</td>\n",
              "      <td>95.000000</td>\n",
              "      <td>5200.000000</td>\n",
              "      <td>24.000000</td>\n",
              "      <td>30.000000</td>\n",
              "      <td>10295.000000</td>\n",
              "    </tr>\n",
              "    <tr>\n",
              "      <th>75%</th>\n",
              "      <td>2.000000</td>\n",
              "      <td>137.000000</td>\n",
              "      <td>102.400000</td>\n",
              "      <td>183.100000</td>\n",
              "      <td>66.900000</td>\n",
              "      <td>55.500000</td>\n",
              "      <td>2935.000000</td>\n",
              "      <td>141.000000</td>\n",
              "      <td>3.590000</td>\n",
              "      <td>3.410000</td>\n",
              "      <td>9.400000</td>\n",
              "      <td>116.000000</td>\n",
              "      <td>5500.000000</td>\n",
              "      <td>30.000000</td>\n",
              "      <td>34.000000</td>\n",
              "      <td>16500.000000</td>\n",
              "    </tr>\n",
              "    <tr>\n",
              "      <th>max</th>\n",
              "      <td>3.000000</td>\n",
              "      <td>256.000000</td>\n",
              "      <td>120.900000</td>\n",
              "      <td>208.100000</td>\n",
              "      <td>72.300000</td>\n",
              "      <td>59.800000</td>\n",
              "      <td>4066.000000</td>\n",
              "      <td>326.000000</td>\n",
              "      <td>3.940000</td>\n",
              "      <td>4.170000</td>\n",
              "      <td>23.000000</td>\n",
              "      <td>288.000000</td>\n",
              "      <td>6600.000000</td>\n",
              "      <td>49.000000</td>\n",
              "      <td>54.000000</td>\n",
              "      <td>45400.000000</td>\n",
              "    </tr>\n",
              "  </tbody>\n",
              "</table>\n",
              "</div>\n",
              "    <div class=\"colab-df-buttons\">\n",
              "\n",
              "  <div class=\"colab-df-container\">\n",
              "    <button class=\"colab-df-convert\" onclick=\"convertToInteractive('df-cf5b244c-ec47-4fd0-bb21-b12d41a93669')\"\n",
              "            title=\"Convert this dataframe to an interactive table.\"\n",
              "            style=\"display:none;\">\n",
              "\n",
              "  <svg xmlns=\"http://www.w3.org/2000/svg\" height=\"24px\" viewBox=\"0 -960 960 960\">\n",
              "    <path d=\"M120-120v-720h720v720H120Zm60-500h600v-160H180v160Zm220 220h160v-160H400v160Zm0 220h160v-160H400v160ZM180-400h160v-160H180v160Zm440 0h160v-160H620v160ZM180-180h160v-160H180v160Zm440 0h160v-160H620v160Z\"/>\n",
              "  </svg>\n",
              "    </button>\n",
              "\n",
              "  <style>\n",
              "    .colab-df-container {\n",
              "      display:flex;\n",
              "      gap: 12px;\n",
              "    }\n",
              "\n",
              "    .colab-df-convert {\n",
              "      background-color: #E8F0FE;\n",
              "      border: none;\n",
              "      border-radius: 50%;\n",
              "      cursor: pointer;\n",
              "      display: none;\n",
              "      fill: #1967D2;\n",
              "      height: 32px;\n",
              "      padding: 0 0 0 0;\n",
              "      width: 32px;\n",
              "    }\n",
              "\n",
              "    .colab-df-convert:hover {\n",
              "      background-color: #E2EBFA;\n",
              "      box-shadow: 0px 1px 2px rgba(60, 64, 67, 0.3), 0px 1px 3px 1px rgba(60, 64, 67, 0.15);\n",
              "      fill: #174EA6;\n",
              "    }\n",
              "\n",
              "    .colab-df-buttons div {\n",
              "      margin-bottom: 4px;\n",
              "    }\n",
              "\n",
              "    [theme=dark] .colab-df-convert {\n",
              "      background-color: #3B4455;\n",
              "      fill: #D2E3FC;\n",
              "    }\n",
              "\n",
              "    [theme=dark] .colab-df-convert:hover {\n",
              "      background-color: #434B5C;\n",
              "      box-shadow: 0px 1px 3px 1px rgba(0, 0, 0, 0.15);\n",
              "      filter: drop-shadow(0px 1px 2px rgba(0, 0, 0, 0.3));\n",
              "      fill: #FFFFFF;\n",
              "    }\n",
              "  </style>\n",
              "\n",
              "    <script>\n",
              "      const buttonEl =\n",
              "        document.querySelector('#df-cf5b244c-ec47-4fd0-bb21-b12d41a93669 button.colab-df-convert');\n",
              "      buttonEl.style.display =\n",
              "        google.colab.kernel.accessAllowed ? 'block' : 'none';\n",
              "\n",
              "      async function convertToInteractive(key) {\n",
              "        const element = document.querySelector('#df-cf5b244c-ec47-4fd0-bb21-b12d41a93669');\n",
              "        const dataTable =\n",
              "          await google.colab.kernel.invokeFunction('convertToInteractive',\n",
              "                                                    [key], {});\n",
              "        if (!dataTable) return;\n",
              "\n",
              "        const docLinkHtml = 'Like what you see? Visit the ' +\n",
              "          '<a target=\"_blank\" href=https://colab.research.google.com/notebooks/data_table.ipynb>data table notebook</a>'\n",
              "          + ' to learn more about interactive tables.';\n",
              "        element.innerHTML = '';\n",
              "        dataTable['output_type'] = 'display_data';\n",
              "        await google.colab.output.renderOutput(dataTable, element);\n",
              "        const docLink = document.createElement('div');\n",
              "        docLink.innerHTML = docLinkHtml;\n",
              "        element.appendChild(docLink);\n",
              "      }\n",
              "    </script>\n",
              "  </div>\n",
              "\n",
              "\n",
              "<div id=\"df-8cd8a958-75c2-45f8-b581-790680e38bd0\">\n",
              "  <button class=\"colab-df-quickchart\" onclick=\"quickchart('df-8cd8a958-75c2-45f8-b581-790680e38bd0')\"\n",
              "            title=\"Suggest charts\"\n",
              "            style=\"display:none;\">\n",
              "\n",
              "<svg xmlns=\"http://www.w3.org/2000/svg\" height=\"24px\"viewBox=\"0 0 24 24\"\n",
              "     width=\"24px\">\n",
              "    <g>\n",
              "        <path d=\"M19 3H5c-1.1 0-2 .9-2 2v14c0 1.1.9 2 2 2h14c1.1 0 2-.9 2-2V5c0-1.1-.9-2-2-2zM9 17H7v-7h2v7zm4 0h-2V7h2v10zm4 0h-2v-4h2v4z\"/>\n",
              "    </g>\n",
              "</svg>\n",
              "  </button>\n",
              "\n",
              "<style>\n",
              "  .colab-df-quickchart {\n",
              "      --bg-color: #E8F0FE;\n",
              "      --fill-color: #1967D2;\n",
              "      --hover-bg-color: #E2EBFA;\n",
              "      --hover-fill-color: #174EA6;\n",
              "      --disabled-fill-color: #AAA;\n",
              "      --disabled-bg-color: #DDD;\n",
              "  }\n",
              "\n",
              "  [theme=dark] .colab-df-quickchart {\n",
              "      --bg-color: #3B4455;\n",
              "      --fill-color: #D2E3FC;\n",
              "      --hover-bg-color: #434B5C;\n",
              "      --hover-fill-color: #FFFFFF;\n",
              "      --disabled-bg-color: #3B4455;\n",
              "      --disabled-fill-color: #666;\n",
              "  }\n",
              "\n",
              "  .colab-df-quickchart {\n",
              "    background-color: var(--bg-color);\n",
              "    border: none;\n",
              "    border-radius: 50%;\n",
              "    cursor: pointer;\n",
              "    display: none;\n",
              "    fill: var(--fill-color);\n",
              "    height: 32px;\n",
              "    padding: 0;\n",
              "    width: 32px;\n",
              "  }\n",
              "\n",
              "  .colab-df-quickchart:hover {\n",
              "    background-color: var(--hover-bg-color);\n",
              "    box-shadow: 0 1px 2px rgba(60, 64, 67, 0.3), 0 1px 3px 1px rgba(60, 64, 67, 0.15);\n",
              "    fill: var(--button-hover-fill-color);\n",
              "  }\n",
              "\n",
              "  .colab-df-quickchart-complete:disabled,\n",
              "  .colab-df-quickchart-complete:disabled:hover {\n",
              "    background-color: var(--disabled-bg-color);\n",
              "    fill: var(--disabled-fill-color);\n",
              "    box-shadow: none;\n",
              "  }\n",
              "\n",
              "  .colab-df-spinner {\n",
              "    border: 2px solid var(--fill-color);\n",
              "    border-color: transparent;\n",
              "    border-bottom-color: var(--fill-color);\n",
              "    animation:\n",
              "      spin 1s steps(1) infinite;\n",
              "  }\n",
              "\n",
              "  @keyframes spin {\n",
              "    0% {\n",
              "      border-color: transparent;\n",
              "      border-bottom-color: var(--fill-color);\n",
              "      border-left-color: var(--fill-color);\n",
              "    }\n",
              "    20% {\n",
              "      border-color: transparent;\n",
              "      border-left-color: var(--fill-color);\n",
              "      border-top-color: var(--fill-color);\n",
              "    }\n",
              "    30% {\n",
              "      border-color: transparent;\n",
              "      border-left-color: var(--fill-color);\n",
              "      border-top-color: var(--fill-color);\n",
              "      border-right-color: var(--fill-color);\n",
              "    }\n",
              "    40% {\n",
              "      border-color: transparent;\n",
              "      border-right-color: var(--fill-color);\n",
              "      border-top-color: var(--fill-color);\n",
              "    }\n",
              "    60% {\n",
              "      border-color: transparent;\n",
              "      border-right-color: var(--fill-color);\n",
              "    }\n",
              "    80% {\n",
              "      border-color: transparent;\n",
              "      border-right-color: var(--fill-color);\n",
              "      border-bottom-color: var(--fill-color);\n",
              "    }\n",
              "    90% {\n",
              "      border-color: transparent;\n",
              "      border-bottom-color: var(--fill-color);\n",
              "    }\n",
              "  }\n",
              "</style>\n",
              "\n",
              "  <script>\n",
              "    async function quickchart(key) {\n",
              "      const quickchartButtonEl =\n",
              "        document.querySelector('#' + key + ' button');\n",
              "      quickchartButtonEl.disabled = true;  // To prevent multiple clicks.\n",
              "      quickchartButtonEl.classList.add('colab-df-spinner');\n",
              "      try {\n",
              "        const charts = await google.colab.kernel.invokeFunction(\n",
              "            'suggestCharts', [key], {});\n",
              "      } catch (error) {\n",
              "        console.error('Error during call to suggestCharts:', error);\n",
              "      }\n",
              "      quickchartButtonEl.classList.remove('colab-df-spinner');\n",
              "      quickchartButtonEl.classList.add('colab-df-quickchart-complete');\n",
              "    }\n",
              "    (() => {\n",
              "      let quickchartButtonEl =\n",
              "        document.querySelector('#df-8cd8a958-75c2-45f8-b581-790680e38bd0 button');\n",
              "      quickchartButtonEl.style.display =\n",
              "        google.colab.kernel.accessAllowed ? 'block' : 'none';\n",
              "    })();\n",
              "  </script>\n",
              "</div>\n",
              "\n",
              "    </div>\n",
              "  </div>\n"
            ],
            "application/vnd.google.colaboratory.intrinsic+json": {
              "type": "dataframe",
              "summary": "{\n  \"name\": \"autos\",\n  \"rows\": 8,\n  \"fields\": [\n    {\n      \"column\": \"symboling\",\n      \"properties\": {\n        \"dtype\": \"number\",\n        \"std\": 72.18619738012798,\n        \"min\": -2.0,\n        \"max\": 205.0,\n        \"num_unique_values\": 8,\n        \"samples\": [\n          0.8341463414634146,\n          1.0,\n          205.0\n        ],\n        \"semantic_type\": \"\",\n        \"description\": \"\"\n      }\n    },\n    {\n      \"column\": \"normalized-losses\",\n      \"properties\": {\n        \"dtype\": \"number\",\n        \"std\": 72.12153576517535,\n        \"min\": 31.6810081043802,\n        \"max\": 256.0,\n        \"num_unique_values\": 7,\n        \"samples\": [\n          205.0,\n          122.0,\n          137.0\n        ],\n        \"semantic_type\": \"\",\n        \"description\": \"\"\n      }\n    },\n    {\n      \"column\": \"wheel-base\",\n      \"properties\": {\n        \"dtype\": \"number\",\n        \"std\": 54.121837757672914,\n        \"min\": 6.021775685025572,\n        \"max\": 205.0,\n        \"num_unique_values\": 8,\n        \"samples\": [\n          98.75658536585367,\n          97.0,\n          205.0\n        ],\n        \"semantic_type\": \"\",\n        \"description\": \"\"\n      }\n    },\n    {\n      \"column\": \"length\",\n      \"properties\": {\n        \"dtype\": \"number\",\n        \"std\": 62.57530527897738,\n        \"min\": 12.337288526555186,\n        \"max\": 208.1,\n        \"num_unique_values\": 8,\n        \"samples\": [\n          174.04926829268288,\n          173.2,\n          205.0\n        ],\n        \"semantic_type\": \"\",\n        \"description\": \"\"\n      }\n    },\n    {\n      \"column\": \"width\",\n      \"properties\": {\n        \"dtype\": \"number\",\n        \"std\": 57.05631291349402,\n        \"min\": 2.1452038526871817,\n        \"max\": 205.0,\n        \"num_unique_values\": 8,\n        \"samples\": [\n          65.90780487804878,\n          65.5,\n          205.0\n        ],\n        \"semantic_type\": \"\",\n        \"description\": \"\"\n      }\n    },\n    {\n      \"column\": \"height\",\n      \"properties\": {\n        \"dtype\": \"number\",\n        \"std\": 58.952696962027126,\n        \"min\": 2.4435219699049044,\n        \"max\": 205.0,\n        \"num_unique_values\": 8,\n        \"samples\": [\n          53.72487804878049,\n          54.1,\n          205.0\n        ],\n        \"semantic_type\": \"\",\n        \"description\": \"\"\n      }\n    },\n    {\n      \"column\": \"curb-weight\",\n      \"properties\": {\n        \"dtype\": \"number\",\n        \"std\": 1270.6950351955225,\n        \"min\": 205.0,\n        \"max\": 4066.0,\n        \"num_unique_values\": 8,\n        \"samples\": [\n          2555.5658536585365,\n          2414.0,\n          205.0\n        ],\n        \"semantic_type\": \"\",\n        \"description\": \"\"\n      }\n    },\n    {\n      \"column\": \"engine-size\",\n      \"properties\": {\n        \"dtype\": \"number\",\n        \"std\": 90.36221973782494,\n        \"min\": 41.642693438179826,\n        \"max\": 326.0,\n        \"num_unique_values\": 8,\n        \"samples\": [\n          126.90731707317073,\n          120.0,\n          205.0\n        ],\n        \"semantic_type\": \"\",\n        \"description\": \"\"\n      }\n    },\n    {\n      \"column\": \"bore\",\n      \"properties\": {\n        \"dtype\": \"number\",\n        \"std\": 70.05652052333333,\n        \"min\": 0.2735387318295989,\n        \"max\": 201.0,\n        \"num_unique_values\": 8,\n        \"samples\": [\n          3.3297512437810943,\n          3.31,\n          201.0\n        ],\n        \"semantic_type\": \"\",\n        \"description\": \"\"\n      }\n    },\n    {\n      \"column\": \"stroke\",\n      \"properties\": {\n        \"dtype\": \"number\",\n        \"std\": 70.08283882779804,\n        \"min\": 0.31671745337703117,\n        \"max\": 201.0,\n        \"num_unique_values\": 8,\n        \"samples\": [\n          3.255422885572139,\n          3.29,\n          201.0\n        ],\n        \"semantic_type\": \"\",\n        \"description\": \"\"\n      }\n    },\n    {\n      \"column\": \"compression-ratio\",\n      \"properties\": {\n        \"dtype\": \"number\",\n        \"std\": 69.11177355262139,\n        \"min\": 3.972040321863297,\n        \"max\": 205.0,\n        \"num_unique_values\": 8,\n        \"samples\": [\n          10.142536585365855,\n          9.0,\n          205.0\n        ],\n        \"semantic_type\": \"\",\n        \"description\": \"\"\n      }\n    },\n    {\n      \"column\": \"horsepower\",\n      \"properties\": {\n        \"dtype\": \"number\",\n        \"std\": 84.62495454034945,\n        \"min\": 39.71436878679359,\n        \"max\": 288.0,\n        \"num_unique_values\": 8,\n        \"samples\": [\n          104.25615763546799,\n          95.0,\n          203.0\n        ],\n        \"semantic_type\": \"\",\n        \"description\": \"\"\n      }\n    },\n    {\n      \"column\": \"peak-rpm\",\n      \"properties\": {\n        \"dtype\": \"number\",\n        \"std\": 2366.1552400363316,\n        \"min\": 203.0,\n        \"max\": 6600.0,\n        \"num_unique_values\": 8,\n        \"samples\": [\n          5125.369458128079,\n          5200.0,\n          203.0\n        ],\n        \"semantic_type\": \"\",\n        \"description\": \"\"\n      }\n    },\n    {\n      \"column\": \"city-mpg\",\n      \"properties\": {\n        \"dtype\": \"number\",\n        \"std\": 65.28506994468985,\n        \"min\": 6.54214165300162,\n        \"max\": 205.0,\n        \"num_unique_values\": 8,\n        \"samples\": [\n          25.21951219512195,\n          24.0,\n          205.0\n        ],\n        \"semantic_type\": \"\",\n        \"description\": \"\"\n      }\n    },\n    {\n      \"column\": \"highway-mpg\",\n      \"properties\": {\n        \"dtype\": \"number\",\n        \"std\": 64.0390049599267,\n        \"min\": 6.88644313094182,\n        \"max\": 205.0,\n        \"num_unique_values\": 8,\n        \"samples\": [\n          30.75121951219512,\n          30.0,\n          205.0\n        ],\n        \"semantic_type\": \"\",\n        \"description\": \"\"\n      }\n    },\n    {\n      \"column\": \"price\",\n      \"properties\": {\n        \"dtype\": \"number\",\n        \"std\": 13873.905956718689,\n        \"min\": 201.0,\n        \"max\": 45400.0,\n        \"num_unique_values\": 8,\n        \"samples\": [\n          13207.129353233831,\n          10295.0,\n          201.0\n        ],\n        \"semantic_type\": \"\",\n        \"description\": \"\"\n      }\n    }\n  ]\n}"
            }
          },
          "metadata": {},
          "execution_count": 14
        }
      ]
    },
    {
      "cell_type": "markdown",
      "source": [
        "#Seccion 2\n",
        "###Realizar un Histograma de precios de los automóviles"
      ],
      "metadata": {
        "id": "JCRPHgxVmGLs"
      }
    },
    {
      "cell_type": "code",
      "source": [
        "#Determinar mediante la regla de sturges la cantidad optima de bins o separadores\n",
        "#Poner títulos y encabezados apropiados\n",
        "#Interprete los datos y proporcione sus conclusiones\n",
        "import math\n",
        "print(autos.price)"
      ],
      "metadata": {
        "colab": {
          "base_uri": "https://localhost:8080/"
        },
        "id": "edV0zRYtmDu5",
        "outputId": "98421529-bf16-4b3a-bb3f-b40649671d2c"
      },
      "execution_count": null,
      "outputs": [
        {
          "output_type": "stream",
          "name": "stdout",
          "text": [
            "0      13495.0\n",
            "1      16500.0\n",
            "2      16500.0\n",
            "3      13950.0\n",
            "4      17450.0\n",
            "        ...   \n",
            "200    16845.0\n",
            "201    19045.0\n",
            "202    21485.0\n",
            "203    22470.0\n",
            "204    22625.0\n",
            "Name: price, Length: 205, dtype: float64\n"
          ]
        }
      ]
    },
    {
      "cell_type": "code",
      "source": [
        "df = pd.DataFrame({'Precios': autos.price})\n",
        "df"
      ],
      "metadata": {
        "colab": {
          "base_uri": "https://localhost:8080/",
          "height": 423
        },
        "id": "YT6jPz11pEh4",
        "outputId": "1dc5b04e-6cc2-4a4b-a37c-ad31d2789bed"
      },
      "execution_count": null,
      "outputs": [
        {
          "output_type": "execute_result",
          "data": {
            "text/plain": [
              "     Precios\n",
              "0    13495.0\n",
              "1    16500.0\n",
              "2    16500.0\n",
              "3    13950.0\n",
              "4    17450.0\n",
              "..       ...\n",
              "200  16845.0\n",
              "201  19045.0\n",
              "202  21485.0\n",
              "203  22470.0\n",
              "204  22625.0\n",
              "\n",
              "[205 rows x 1 columns]"
            ],
            "text/html": [
              "\n",
              "  <div id=\"df-ebca8716-78a5-4776-a198-49e0ccbc6286\" class=\"colab-df-container\">\n",
              "    <div>\n",
              "<style scoped>\n",
              "    .dataframe tbody tr th:only-of-type {\n",
              "        vertical-align: middle;\n",
              "    }\n",
              "\n",
              "    .dataframe tbody tr th {\n",
              "        vertical-align: top;\n",
              "    }\n",
              "\n",
              "    .dataframe thead th {\n",
              "        text-align: right;\n",
              "    }\n",
              "</style>\n",
              "<table border=\"1\" class=\"dataframe\">\n",
              "  <thead>\n",
              "    <tr style=\"text-align: right;\">\n",
              "      <th></th>\n",
              "      <th>Precios</th>\n",
              "    </tr>\n",
              "  </thead>\n",
              "  <tbody>\n",
              "    <tr>\n",
              "      <th>0</th>\n",
              "      <td>13495.0</td>\n",
              "    </tr>\n",
              "    <tr>\n",
              "      <th>1</th>\n",
              "      <td>16500.0</td>\n",
              "    </tr>\n",
              "    <tr>\n",
              "      <th>2</th>\n",
              "      <td>16500.0</td>\n",
              "    </tr>\n",
              "    <tr>\n",
              "      <th>3</th>\n",
              "      <td>13950.0</td>\n",
              "    </tr>\n",
              "    <tr>\n",
              "      <th>4</th>\n",
              "      <td>17450.0</td>\n",
              "    </tr>\n",
              "    <tr>\n",
              "      <th>...</th>\n",
              "      <td>...</td>\n",
              "    </tr>\n",
              "    <tr>\n",
              "      <th>200</th>\n",
              "      <td>16845.0</td>\n",
              "    </tr>\n",
              "    <tr>\n",
              "      <th>201</th>\n",
              "      <td>19045.0</td>\n",
              "    </tr>\n",
              "    <tr>\n",
              "      <th>202</th>\n",
              "      <td>21485.0</td>\n",
              "    </tr>\n",
              "    <tr>\n",
              "      <th>203</th>\n",
              "      <td>22470.0</td>\n",
              "    </tr>\n",
              "    <tr>\n",
              "      <th>204</th>\n",
              "      <td>22625.0</td>\n",
              "    </tr>\n",
              "  </tbody>\n",
              "</table>\n",
              "<p>205 rows × 1 columns</p>\n",
              "</div>\n",
              "    <div class=\"colab-df-buttons\">\n",
              "\n",
              "  <div class=\"colab-df-container\">\n",
              "    <button class=\"colab-df-convert\" onclick=\"convertToInteractive('df-ebca8716-78a5-4776-a198-49e0ccbc6286')\"\n",
              "            title=\"Convert this dataframe to an interactive table.\"\n",
              "            style=\"display:none;\">\n",
              "\n",
              "  <svg xmlns=\"http://www.w3.org/2000/svg\" height=\"24px\" viewBox=\"0 -960 960 960\">\n",
              "    <path d=\"M120-120v-720h720v720H120Zm60-500h600v-160H180v160Zm220 220h160v-160H400v160Zm0 220h160v-160H400v160ZM180-400h160v-160H180v160Zm440 0h160v-160H620v160ZM180-180h160v-160H180v160Zm440 0h160v-160H620v160Z\"/>\n",
              "  </svg>\n",
              "    </button>\n",
              "\n",
              "  <style>\n",
              "    .colab-df-container {\n",
              "      display:flex;\n",
              "      gap: 12px;\n",
              "    }\n",
              "\n",
              "    .colab-df-convert {\n",
              "      background-color: #E8F0FE;\n",
              "      border: none;\n",
              "      border-radius: 50%;\n",
              "      cursor: pointer;\n",
              "      display: none;\n",
              "      fill: #1967D2;\n",
              "      height: 32px;\n",
              "      padding: 0 0 0 0;\n",
              "      width: 32px;\n",
              "    }\n",
              "\n",
              "    .colab-df-convert:hover {\n",
              "      background-color: #E2EBFA;\n",
              "      box-shadow: 0px 1px 2px rgba(60, 64, 67, 0.3), 0px 1px 3px 1px rgba(60, 64, 67, 0.15);\n",
              "      fill: #174EA6;\n",
              "    }\n",
              "\n",
              "    .colab-df-buttons div {\n",
              "      margin-bottom: 4px;\n",
              "    }\n",
              "\n",
              "    [theme=dark] .colab-df-convert {\n",
              "      background-color: #3B4455;\n",
              "      fill: #D2E3FC;\n",
              "    }\n",
              "\n",
              "    [theme=dark] .colab-df-convert:hover {\n",
              "      background-color: #434B5C;\n",
              "      box-shadow: 0px 1px 3px 1px rgba(0, 0, 0, 0.15);\n",
              "      filter: drop-shadow(0px 1px 2px rgba(0, 0, 0, 0.3));\n",
              "      fill: #FFFFFF;\n",
              "    }\n",
              "  </style>\n",
              "\n",
              "    <script>\n",
              "      const buttonEl =\n",
              "        document.querySelector('#df-ebca8716-78a5-4776-a198-49e0ccbc6286 button.colab-df-convert');\n",
              "      buttonEl.style.display =\n",
              "        google.colab.kernel.accessAllowed ? 'block' : 'none';\n",
              "\n",
              "      async function convertToInteractive(key) {\n",
              "        const element = document.querySelector('#df-ebca8716-78a5-4776-a198-49e0ccbc6286');\n",
              "        const dataTable =\n",
              "          await google.colab.kernel.invokeFunction('convertToInteractive',\n",
              "                                                    [key], {});\n",
              "        if (!dataTable) return;\n",
              "\n",
              "        const docLinkHtml = 'Like what you see? Visit the ' +\n",
              "          '<a target=\"_blank\" href=https://colab.research.google.com/notebooks/data_table.ipynb>data table notebook</a>'\n",
              "          + ' to learn more about interactive tables.';\n",
              "        element.innerHTML = '';\n",
              "        dataTable['output_type'] = 'display_data';\n",
              "        await google.colab.output.renderOutput(dataTable, element);\n",
              "        const docLink = document.createElement('div');\n",
              "        docLink.innerHTML = docLinkHtml;\n",
              "        element.appendChild(docLink);\n",
              "      }\n",
              "    </script>\n",
              "  </div>\n",
              "\n",
              "\n",
              "<div id=\"df-8b746b2b-6bb5-4ae1-b533-14a59b100e48\">\n",
              "  <button class=\"colab-df-quickchart\" onclick=\"quickchart('df-8b746b2b-6bb5-4ae1-b533-14a59b100e48')\"\n",
              "            title=\"Suggest charts\"\n",
              "            style=\"display:none;\">\n",
              "\n",
              "<svg xmlns=\"http://www.w3.org/2000/svg\" height=\"24px\"viewBox=\"0 0 24 24\"\n",
              "     width=\"24px\">\n",
              "    <g>\n",
              "        <path d=\"M19 3H5c-1.1 0-2 .9-2 2v14c0 1.1.9 2 2 2h14c1.1 0 2-.9 2-2V5c0-1.1-.9-2-2-2zM9 17H7v-7h2v7zm4 0h-2V7h2v10zm4 0h-2v-4h2v4z\"/>\n",
              "    </g>\n",
              "</svg>\n",
              "  </button>\n",
              "\n",
              "<style>\n",
              "  .colab-df-quickchart {\n",
              "      --bg-color: #E8F0FE;\n",
              "      --fill-color: #1967D2;\n",
              "      --hover-bg-color: #E2EBFA;\n",
              "      --hover-fill-color: #174EA6;\n",
              "      --disabled-fill-color: #AAA;\n",
              "      --disabled-bg-color: #DDD;\n",
              "  }\n",
              "\n",
              "  [theme=dark] .colab-df-quickchart {\n",
              "      --bg-color: #3B4455;\n",
              "      --fill-color: #D2E3FC;\n",
              "      --hover-bg-color: #434B5C;\n",
              "      --hover-fill-color: #FFFFFF;\n",
              "      --disabled-bg-color: #3B4455;\n",
              "      --disabled-fill-color: #666;\n",
              "  }\n",
              "\n",
              "  .colab-df-quickchart {\n",
              "    background-color: var(--bg-color);\n",
              "    border: none;\n",
              "    border-radius: 50%;\n",
              "    cursor: pointer;\n",
              "    display: none;\n",
              "    fill: var(--fill-color);\n",
              "    height: 32px;\n",
              "    padding: 0;\n",
              "    width: 32px;\n",
              "  }\n",
              "\n",
              "  .colab-df-quickchart:hover {\n",
              "    background-color: var(--hover-bg-color);\n",
              "    box-shadow: 0 1px 2px rgba(60, 64, 67, 0.3), 0 1px 3px 1px rgba(60, 64, 67, 0.15);\n",
              "    fill: var(--button-hover-fill-color);\n",
              "  }\n",
              "\n",
              "  .colab-df-quickchart-complete:disabled,\n",
              "  .colab-df-quickchart-complete:disabled:hover {\n",
              "    background-color: var(--disabled-bg-color);\n",
              "    fill: var(--disabled-fill-color);\n",
              "    box-shadow: none;\n",
              "  }\n",
              "\n",
              "  .colab-df-spinner {\n",
              "    border: 2px solid var(--fill-color);\n",
              "    border-color: transparent;\n",
              "    border-bottom-color: var(--fill-color);\n",
              "    animation:\n",
              "      spin 1s steps(1) infinite;\n",
              "  }\n",
              "\n",
              "  @keyframes spin {\n",
              "    0% {\n",
              "      border-color: transparent;\n",
              "      border-bottom-color: var(--fill-color);\n",
              "      border-left-color: var(--fill-color);\n",
              "    }\n",
              "    20% {\n",
              "      border-color: transparent;\n",
              "      border-left-color: var(--fill-color);\n",
              "      border-top-color: var(--fill-color);\n",
              "    }\n",
              "    30% {\n",
              "      border-color: transparent;\n",
              "      border-left-color: var(--fill-color);\n",
              "      border-top-color: var(--fill-color);\n",
              "      border-right-color: var(--fill-color);\n",
              "    }\n",
              "    40% {\n",
              "      border-color: transparent;\n",
              "      border-right-color: var(--fill-color);\n",
              "      border-top-color: var(--fill-color);\n",
              "    }\n",
              "    60% {\n",
              "      border-color: transparent;\n",
              "      border-right-color: var(--fill-color);\n",
              "    }\n",
              "    80% {\n",
              "      border-color: transparent;\n",
              "      border-right-color: var(--fill-color);\n",
              "      border-bottom-color: var(--fill-color);\n",
              "    }\n",
              "    90% {\n",
              "      border-color: transparent;\n",
              "      border-bottom-color: var(--fill-color);\n",
              "    }\n",
              "  }\n",
              "</style>\n",
              "\n",
              "  <script>\n",
              "    async function quickchart(key) {\n",
              "      const quickchartButtonEl =\n",
              "        document.querySelector('#' + key + ' button');\n",
              "      quickchartButtonEl.disabled = true;  // To prevent multiple clicks.\n",
              "      quickchartButtonEl.classList.add('colab-df-spinner');\n",
              "      try {\n",
              "        const charts = await google.colab.kernel.invokeFunction(\n",
              "            'suggestCharts', [key], {});\n",
              "      } catch (error) {\n",
              "        console.error('Error during call to suggestCharts:', error);\n",
              "      }\n",
              "      quickchartButtonEl.classList.remove('colab-df-spinner');\n",
              "      quickchartButtonEl.classList.add('colab-df-quickchart-complete');\n",
              "    }\n",
              "    (() => {\n",
              "      let quickchartButtonEl =\n",
              "        document.querySelector('#df-8b746b2b-6bb5-4ae1-b533-14a59b100e48 button');\n",
              "      quickchartButtonEl.style.display =\n",
              "        google.colab.kernel.accessAllowed ? 'block' : 'none';\n",
              "    })();\n",
              "  </script>\n",
              "</div>\n",
              "\n",
              "  <div id=\"id_63f23d34-be87-42a1-9350-421f919c3848\">\n",
              "    <style>\n",
              "      .colab-df-generate {\n",
              "        background-color: #E8F0FE;\n",
              "        border: none;\n",
              "        border-radius: 50%;\n",
              "        cursor: pointer;\n",
              "        display: none;\n",
              "        fill: #1967D2;\n",
              "        height: 32px;\n",
              "        padding: 0 0 0 0;\n",
              "        width: 32px;\n",
              "      }\n",
              "\n",
              "      .colab-df-generate:hover {\n",
              "        background-color: #E2EBFA;\n",
              "        box-shadow: 0px 1px 2px rgba(60, 64, 67, 0.3), 0px 1px 3px 1px rgba(60, 64, 67, 0.15);\n",
              "        fill: #174EA6;\n",
              "      }\n",
              "\n",
              "      [theme=dark] .colab-df-generate {\n",
              "        background-color: #3B4455;\n",
              "        fill: #D2E3FC;\n",
              "      }\n",
              "\n",
              "      [theme=dark] .colab-df-generate:hover {\n",
              "        background-color: #434B5C;\n",
              "        box-shadow: 0px 1px 3px 1px rgba(0, 0, 0, 0.15);\n",
              "        filter: drop-shadow(0px 1px 2px rgba(0, 0, 0, 0.3));\n",
              "        fill: #FFFFFF;\n",
              "      }\n",
              "    </style>\n",
              "    <button class=\"colab-df-generate\" onclick=\"generateWithVariable('df')\"\n",
              "            title=\"Generate code using this dataframe.\"\n",
              "            style=\"display:none;\">\n",
              "\n",
              "  <svg xmlns=\"http://www.w3.org/2000/svg\" height=\"24px\"viewBox=\"0 0 24 24\"\n",
              "       width=\"24px\">\n",
              "    <path d=\"M7,19H8.4L18.45,9,17,7.55,7,17.6ZM5,21V16.75L18.45,3.32a2,2,0,0,1,2.83,0l1.4,1.43a1.91,1.91,0,0,1,.58,1.4,1.91,1.91,0,0,1-.58,1.4L9.25,21ZM18.45,9,17,7.55Zm-12,3A5.31,5.31,0,0,0,4.9,8.1,5.31,5.31,0,0,0,1,6.5,5.31,5.31,0,0,0,4.9,4.9,5.31,5.31,0,0,0,6.5,1,5.31,5.31,0,0,0,8.1,4.9,5.31,5.31,0,0,0,12,6.5,5.46,5.46,0,0,0,6.5,12Z\"/>\n",
              "  </svg>\n",
              "    </button>\n",
              "    <script>\n",
              "      (() => {\n",
              "      const buttonEl =\n",
              "        document.querySelector('#id_63f23d34-be87-42a1-9350-421f919c3848 button.colab-df-generate');\n",
              "      buttonEl.style.display =\n",
              "        google.colab.kernel.accessAllowed ? 'block' : 'none';\n",
              "\n",
              "      buttonEl.onclick = () => {\n",
              "        google.colab.notebook.generateWithVariable('df');\n",
              "      }\n",
              "      })();\n",
              "    </script>\n",
              "  </div>\n",
              "\n",
              "    </div>\n",
              "  </div>\n"
            ],
            "application/vnd.google.colaboratory.intrinsic+json": {
              "type": "dataframe",
              "variable_name": "df",
              "summary": "{\n  \"name\": \"df\",\n  \"rows\": 205,\n  \"fields\": [\n    {\n      \"column\": \"Precios\",\n      \"properties\": {\n        \"dtype\": \"number\",\n        \"std\": 7947.066341939271,\n        \"min\": 5118.0,\n        \"max\": 45400.0,\n        \"num_unique_values\": 186,\n        \"samples\": [\n          34028.0,\n          15750.0,\n          9995.0\n        ],\n        \"semantic_type\": \"\",\n        \"description\": \"\"\n      }\n    }\n  ]\n}"
            }
          },
          "metadata": {},
          "execution_count": 16
        }
      ]
    },
    {
      "cell_type": "code",
      "source": [
        "#Determinar mediante la regla de sturges la cantidad optima de bins o separadores\n",
        "n = len(autos.price)\n",
        "k = int(1 + math.log2(n))\n",
        "print(\"Valor de n = \", n , \"\\nNúmero de intervalos = \", k)"
      ],
      "metadata": {
        "colab": {
          "base_uri": "https://localhost:8080/"
        },
        "id": "nlMSL9IIorYv",
        "outputId": "5eececa4-ff41-444c-9ada-ddf03856f102"
      },
      "execution_count": null,
      "outputs": [
        {
          "output_type": "stream",
          "name": "stdout",
          "text": [
            "Valor de n =  205 \n",
            "Número de intervalos =  8\n"
          ]
        }
      ]
    },
    {
      "cell_type": "code",
      "source": [
        "#Poner títulos y encabezados apropiados\n",
        "plt.hist(df['Precios'], bins = k, alpha = 0.5)\n",
        "plt.title('Histograma de Precios basado en la regla de Sturges')\n",
        "plt.xlabel(\"Precios\")\n",
        "plt.ylabel(\"Número de autos\")"
      ],
      "metadata": {
        "colab": {
          "base_uri": "https://localhost:8080/",
          "height": 489
        },
        "id": "MVSkqW-DpjzI",
        "outputId": "753dacde-6046-4a82-b5eb-e6a7dbf6d508"
      },
      "execution_count": null,
      "outputs": [
        {
          "output_type": "execute_result",
          "data": {
            "text/plain": [
              "Text(0, 0.5, 'Número de autos')"
            ]
          },
          "metadata": {},
          "execution_count": 18
        },
        {
          "output_type": "display_data",
          "data": {
            "text/plain": [
              "<Figure size 640x480 with 1 Axes>"
            ],
            "image/png": "[encoded data removed]"
          },
          "metadata": {}
        }
      ]
    },
    {
      "cell_type": "markdown",
      "source": [
        "##Conclusiones del histograma\n",
        "Se observa una gran concentración de automóviles, aproximadamente 100, cuyo precio oscila entre los 5,000 y 10,000, representando la mayor parte del mercado. A continuación, se encuentran alrededor de 40 vehículos con precios entre 10,000 y 15,000, seguidos por unos 35 autos cuyo costo varía entre 15,000 y 20,000.\n",
        "\n",
        "En conclusión, la mayoría de los automóviles se sitúan dentro del rango de 5,000 a 20,000, lo que indica que este es el intervalo de precios más común."
      ],
      "metadata": {
        "id": "kCJH3ECvrA1k"
      }
    },
    {
      "cell_type": "markdown",
      "source": [
        "#Seccion 3\n",
        "###Realizar un diagrama de caja y bigotes que muestre la relación estadística entre la columna del precio del automóvil (price) y tipo de vehículo (body style)"
      ],
      "metadata": {
        "id": "40C4yylCsEFy"
      }
    },
    {
      "cell_type": "code",
      "source": [
        "#Poner títulos y encabezados apropiados\n",
        "#Interprete los datos y proporcione sus conclusiones\n",
        "\n",
        "sns.boxplot(x='body-style', y='price', data = autos)\n",
        "plt.title('Distribución del Precio por Tipo de Vehículo', fontsize=14)\n",
        "plt.xlabel('Tipo de Vehículo', fontsize=12)\n",
        "plt.ylabel('Precio del Automóvil', fontsize=12)\n",
        "plt.show()"
      ],
      "metadata": {
        "colab": {
          "base_uri": "https://localhost:8080/",
          "height": 478
        },
        "id": "b-VuLk7eI3gH",
        "outputId": "4b770fa2-896c-434a-f203-78a03d899eeb"
      },
      "execution_count": null,
      "outputs": [
        {
          "output_type": "display_data",
          "data": {
            "text/plain": [
              "<Figure size 640x480 with 1 Axes>"
            ],
            "image/png": "[encoded data removed]"
          },
          "metadata": {}
        }
      ]
    },
    {
      "cell_type": "markdown",
      "source": [
        "##Conclusiones de la parte 3\n",
        "\n",
        "  Los convertibles y hardtops se encuentran entre los vehículos más costosos, con precios que suelen superar los 35,000 o incluso 40,000. En contraste, los hatchbacks son la opción más económica, con valores más bajos y concentrados dentro de un rango estrecho. Los sedanes y wagons presentan precios más estables y medianas reducidas, aunque los sedanes pueden incluir algunos valores atípicos elevados. En términos generales, los modelos deportivos, como los convertibles y hardtops, tienden a ser los más caros, mientras que los hatchbacks destacan por su accesibilidad.\n"
      ],
      "metadata": {
        "id": "44loHijkMJrV"
      }
    },
    {
      "cell_type": "markdown",
      "source": [
        "#Seccion 4\n",
        "\n",
        "###Realizar un diagrama de caja y bigotes que muestre la relación estadística entre la columna del precio del automóvil (price) y tipo tracción ruedas (drive wheels)"
      ],
      "metadata": {
        "id": "JXgcrwPAOV7j"
      }
    },
    {
      "cell_type": "code",
      "source": [
        "#Poner títulos y encabezados apropiados\n",
        "#Interprete los datos y proporcione sus conclusiones\n",
        "\n",
        "sns.boxplot(x='drive-wheels', y='price', data = autos)\n",
        "plt.title('Distribución del Precio por el tipo de ruedas', fontsize=14)\n",
        "plt.xlabel('Tipo de Tracción en ruedas', fontsize=12)\n",
        "plt.ylabel('Precio del Automóvil', fontsize=12)\n",
        "plt.show()"
      ],
      "metadata": {
        "colab": {
          "base_uri": "https://localhost:8080/",
          "height": 478
        },
        "id": "vrRZzZfNOmPT",
        "outputId": "039a51a6-3d50-49cf-ebf4-99e086859d45"
      },
      "execution_count": null,
      "outputs": [
        {
          "output_type": "display_data",
          "data": {
            "text/plain": [
              "<Figure size 640x480 with 1 Axes>"
            ],
            "image/png": "[encoded data removed]"
          },
          "metadata": {}
        }
      ]
    },
    {
      "cell_type": "markdown",
      "source": [
        "##Conslusiones de la parte 4\n",
        "\n",
        "Los autos con tracción trasera, suelen ubicarse en el segmento más costoso del mercado, ya que presentan una mediana elevada y un rango de precios amplio, con varios valores atípicos en el extremo superior. Por otro lado, los vehículos con tracción delantera, son los más accesibles, caracterizándose por una mediana baja y precios concentrados en un margen estrecho. En cuanto a los modelos con tracción en las cuatro ruedas, se posicionan en un punto intermedio, con una mediana superior a la de los FWD pero con menos valores atípicos. En términos generales, los RWD tienden a ser más caros por su orientación deportiva o de lujo, los FWD destacan por su asequibilidad y uso urbano, mientras que los 4WD tienen un precio moderado, adecuado para funciones utilitarias o todoterreno."
      ],
      "metadata": {
        "id": "LHj1QhwIPxu-"
      }
    },
    {
      "cell_type": "markdown",
      "source": [
        "#Seccion 5\n",
        "###Realizar un diagrama de caja y bigotes que muestre la relación estadística entre la columna del precio del automóvil (price) y la ubicación del motor (engine-location)"
      ],
      "metadata": {
        "id": "Mm5JvwozQMJ4"
      }
    },
    {
      "cell_type": "code",
      "source": [
        "#Poner títulos y encabezados apropiados\n",
        "#Interprete los datos y proporcione sus conclusiones\n",
        "\n",
        "sns.boxplot(x='engine-location', y='price', data = autos)\n",
        "plt.title('Distribución del Precio por la ubicación del motor', fontsize=14)\n",
        "plt.xlabel('Ubicación del motor', fontsize=12)\n",
        "plt.ylabel('Precio del Automóvil', fontsize=12)\n",
        "plt.show()"
      ],
      "metadata": {
        "colab": {
          "base_uri": "https://localhost:8080/",
          "height": 478
        },
        "id": "-l7h1DiuQRN-",
        "outputId": "e8082816-c377-41d6-c239-deeee52de95d"
      },
      "execution_count": null,
      "outputs": [
        {
          "output_type": "display_data",
          "data": {
            "text/plain": [
              "<Figure size 640x480 with 1 Axes>"
            ],
            "image/png": "[encoded data removed]"
          },
          "metadata": {}
        }
      ]
    },
    {
      "cell_type": "markdown",
      "source": [
        "##Conslusiones de la parte 5\n",
        "\n",
        "Aquí podemos ver como la ubicacion frontal le gana por mucho en popularidad a la ubicacion trasera, esto por los costos bajos."
      ],
      "metadata": {
        "id": "FKjfj31UQspL"
      }
    },
    {
      "cell_type": "markdown",
      "source": [
        "#Seccion 6\n",
        "\n",
        "##Conclusiones\n",
        "Las conclusiones de la practica son que nos ayuda a apreciar de manera muy concluyente los fenomenos de la probabilidad y, nos ayuda para distinguirlos, asi mismo observamos la desviacion y la varianza en las historigramas y en los diagramas de cajas y bigotes"
      ],
      "metadata": {
        "id": "PogyWh45RWQP"
      }
    }
  ]
}